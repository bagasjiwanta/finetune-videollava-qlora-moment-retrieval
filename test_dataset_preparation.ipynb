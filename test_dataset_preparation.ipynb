{
 "cells": [
  {
   "cell_type": "code",
   "execution_count": 6,
   "metadata": {},
   "outputs": [],
   "source": [
    "from dataset.prepare import DatasetPreparer\n",
    "from transformers import VideoLlavaProcessor, VideoLlavaImageProcessor\n",
    "from dataset.collate import DataCollatorWithPadding\n",
    "from torch import tensor\n",
    "import numpy as np\n",
    "import torch\n",
    "from datasets import load_from_disk\n",
    "from matplotlib import pyplot as plt\n",
    "from matplotlib import animation\n",
    "from IPython.display import HTML\n",
    "from torch.utils.data import DataLoader"
   ]
  },
  {
   "cell_type": "code",
   "execution_count": 13,
   "metadata": {},
   "outputs": [],
   "source": [
    "processor = VideoLlavaProcessor.from_pretrained(\"LanguageBind/Video-LLaVA-7B-hf\", use_fast=False)\n",
    "processor.patch_size = 14\n",
    "processor.vision_feature_select_strategy = \"default\"\n",
    "processor.tokenizer.deprecation_warnings[\"Asking-to-pad-a-fast-tokenizer\"] = True"
   ]
  },
  {
   "cell_type": "code",
   "execution_count": 3,
   "metadata": {},
   "outputs": [],
   "source": [
    "dp = DatasetPreparer(base_dir='test/prepare1', processed_dir='processed', processor=processor, num_frames=14)"
   ]
  },
  {
   "cell_type": "code",
   "execution_count": 4,
   "metadata": {},
   "outputs": [],
   "source": [
    "try:\n",
    "    ao = load_from_disk('test/prepare1/processed/action_ordering_v2/robust/14_frames')\n",
    "except:\n",
    "    ao = dp.prepare_dataset('action_ordering_v2', use_robust=True)\n",
    "\n",
    "try:\n",
    "    mr = load_from_disk('test/prepare1/processed/moment_retrieval_v2/frame/14_frames')\n",
    "except:\n",
    "    mr = dp.prepare_dataset('moment_retrieval_v2', use_frame=True, mr_max_actions=1)"
   ]
  },
  {
   "cell_type": "code",
   "execution_count": 27,
   "metadata": {},
   "outputs": [],
   "source": [
    "train_dataloader = DataLoader(mr['train'], collate_fn=DataCollatorWithPadding(processor), batch_size=4, shuffle=True, num_workers=1)\n",
    "eval_dataloader = DataLoader(mr['test'], collate_fn=DataCollatorWithPadding(processor), batch_size=4, shuffle=True, num_workers=1)"
   ]
  },
  {
   "cell_type": "code",
   "execution_count": 28,
   "metadata": {},
   "outputs": [],
   "source": [
    "train = next(iter(train_dataloader))"
   ]
  },
  {
   "cell_type": "code",
   "execution_count": 29,
   "metadata": {},
   "outputs": [],
   "source": [
    "test = next(iter(eval_dataloader))"
   ]
  },
  {
   "cell_type": "code",
   "execution_count": 31,
   "metadata": {},
   "outputs": [
    {
     "data": {
      "text/plain": [
       "(torch.Size([4, 3841]),\n",
       " torch.Size([4, 3841]),\n",
       " torch.Size([4, 14, 3, 224, 224]),\n",
       " [['2', '14'], ['2', '6'], ['2', '8'], ['2', '10']])"
      ]
     },
     "execution_count": 31,
     "metadata": {},
     "output_type": "execute_result"
    }
   ],
   "source": [
    "(\n",
    "    test['input_ids'].shape,\n",
    "    test['attention_mask'].shape,\n",
    "    test['pixel_values_videos'].shape,\n",
    "    test['answer']\n",
    ")"
   ]
  },
  {
   "cell_type": "code",
   "execution_count": 33,
   "metadata": {},
   "outputs": [
    {
     "data": {
      "text/plain": [
       "(torch.Size([4, 3845]),\n",
       " torch.Size([4, 3845]),\n",
       " torch.Size([4, 14, 3, 224, 224]),\n",
       " torch.Size([4, 3845]))"
      ]
     },
     "execution_count": 33,
     "metadata": {},
     "output_type": "execute_result"
    }
   ],
   "source": [
    "(\n",
    "    train['input_ids'].shape,\n",
    "    train['attention_mask'].shape,\n",
    "    train['pixel_values_videos'].shape,\n",
    "    train['labels'].shape\n",
    ")"
   ]
  },
  {
   "cell_type": "code",
   "execution_count": null,
   "metadata": {},
   "outputs": [],
   "source": [
    "processor.batch_decode(test['input_ids'], skip_special_tokens=True, clean_up_tokenization_space)"
   ]
  }
 ],
 "metadata": {
  "kernelspec": {
   "display_name": "env_ai",
   "language": "python",
   "name": "python3"
  },
  "language_info": {
   "codemirror_mode": {
    "name": "ipython",
    "version": 3
   },
   "file_extension": ".py",
   "mimetype": "text/x-python",
   "name": "python",
   "nbconvert_exporter": "python",
   "pygments_lexer": "ipython3",
   "version": "3.10.15"
  }
 },
 "nbformat": 4,
 "nbformat_minor": 2
}
